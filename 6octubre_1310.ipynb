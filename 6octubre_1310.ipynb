{
  "nbformat": 4,
  "nbformat_minor": 0,
  "metadata": {
    "colab": {
      "name": "6octubre_1310",
      "provenance": [],
      "authorship_tag": "ABX9TyMsYmkgoGzWYm8S7ll8NW6I",
      "include_colab_link": true
    },
    "kernelspec": {
      "name": "python3",
      "display_name": "Python 3"
    }
  },
  "cells": [
    {
      "cell_type": "markdown",
      "metadata": {
        "id": "view-in-github",
        "colab_type": "text"
      },
      "source": [
        "<a href=\"https://colab.research.google.com/github/Ale-desu/edd_1310_2021/blob/master/6octubre_1310.ipynb\" target=\"_parent\"><img src=\"https://colab.research.google.com/assets/colab-badge.svg\" alt=\"Open In Colab\"/></a>"
      ]
    },
    {
      "cell_type": "code",
      "metadata": {
        "id": "sF5UCMx-qLBV"
      },
      "source": [
        "#string continuación\n",
        "numero_txt= \" 1, 2 ,3,4,5, 6, 13 \"\n",
        "print(numero_txt)\n",
        "numeros_txt=numero_txt.strip().split(\",\")\n",
        "print(numeros_txt)\n",
        "\n",
        "for j in range(len(numeros_txt)):\n",
        "  numeros_txt[j]=int(numeros_txt[j].strip())\n",
        "#los tab son= a las {} en java o c\n",
        "print(numeros_txt)\n",
        "\n",
        "#ejemplos de range\n",
        "print(range(1,10,2))\n",
        "rango=range(0,10,2)\n",
        "for x in rango:\n",
        "  print(x)"
      ],
      "execution_count": null,
      "outputs": []
    },
    {
      "cell_type": "markdown",
      "metadata": {
        "id": "KZnQpfZTxLTP"
      },
      "source": [
        "#listas\n",
        "-mutables\n",
        "-se declaran con[]\n",
        "-selector[int]\n",
        "-pueden ser de cualquier tipo *python\n",
        "#tuplas\n",
        "-no mutables\n",
        "-se declaran con()\n",
        "-selector[int]\n",
        "#diccionarios\n",
        "-son mutables\n",
        "-son conjuntos de pares llave:valor\n",
        "-equivalentes a los objetosJSON\n",
        "#conjuntos\n",
        "-representación de la teoria de conjuntos"
      ]
    },
    {
      "cell_type": "code",
      "metadata": {
        "id": "soirpjNnw29b",
        "outputId": "b4cf5157-420c-4ba5-f86e-5eb8a56e6e87",
        "colab": {
          "base_uri": "https://localhost:8080/",
          "height": 119
        }
      },
      "source": [
        "#listas\n",
        "frutas=[\"pera\",\"manzana\",\"fresas\",\"kiwi\",\"naranja\",\"lichi\"]\n",
        "print(frutas)\n",
        "cosas=[\"cuaderno\",2,3.141516,True,False,[\"rojo\",\"azul\"]]\n",
        "frutas[2]=\"Fresas\" #frutas[2]=frutas[2].capitalize()\n",
        "print(frutas)\n",
        "#agregar\n",
        "frutas.append(\"aguacate\")#lo mete al final de la lista\n",
        "print(frutas)\n",
        "frutas.insert(2,\"sandia\") #para meter en cualquier lugar *obligatorio asignar el lugar\n",
        "print(frutas)\n",
        "concadenar\n",
        "fecha=[\"06\",\"10\",\"2020\"]\n",
        "print(fecha)\n",
        "fecha_str=\"/\".join(fecha)\n",
        "print(fecha_str)\n"
      ],
      "execution_count": null,
      "outputs": [
        {
          "output_type": "stream",
          "text": [
            "['pera', 'manzana', 'fresas', 'kiwi', 'naranja', 'lichi']\n",
            "['pera', 'manzana', 'Fresas', 'kiwi', 'naranja', 'lichi']\n",
            "['pera', 'manzana', 'Fresas', 'kiwi', 'naranja', 'lichi', 'aguacate']\n",
            "['pera', 'manzana', 'sandia', 'Fresas', 'kiwi', 'naranja', 'lichi', 'aguacate']\n",
            "['06', '10', '2020']\n",
            "06/10/2020\n"
          ],
          "name": "stdout"
        }
      ]
    },
    {
      "cell_type": "code",
      "metadata": {
        "id": "1APB2ry73Tyy"
      },
      "source": [
        "#eliminar\n",
        "cosas=[\"cuaderno\",2,3.141516,True,False,[\"rojo\",\"azul\"]]\n",
        "print(cosas)\n",
        "cosas.append(\"libro\")\n",
        "cosas.append(\"lapiz\")\n",
        "print(cosas)\n",
        "algo=cosas.pop()#default el ultimo\n",
        "print(cosas)\n",
        "print(algo)\n",
        "algo=cosas.pop(2)\n",
        "print(cosas)\n",
        "print(algo)\n",
        "cosas.remove(2)\n",
        "print(cosas)\n",
        "\n",
        "#limpiar una lista\n",
        "#cosas.clear()\n",
        "print(cosas)\n",
        "\n",
        "#ordenar una lista\n",
        "frutas.sort()\n",
        "print(frutas)\n",
        "\n"
      ],
      "execution_count": null,
      "outputs": []
    },
    {
      "cell_type": "code",
      "metadata": {
        "id": "PD7-FULh7EzU"
      },
      "source": [
        "#silcing\n",
        "cosas=[\"cuaderno\",2,3.141516,True,False,[\"rojo\",\"azul\"]]\n",
        "print(cosas[3:5:1])#no modifica el codigo, solo muestra\n",
        "print(cosas[0][4:6:1])\n",
        "numeros=[0,1,2,3,4,5,6,7,8,9,10,11,12,13,14,15]\n",
        "print(numeros)\n",
        "print(numeros[8:13:1])\n",
        "\n",
        "numeros[8:13]=[-2,-2]\n",
        "print(numeros)\n",
        "\n",
        "#preguntar por existencia\n",
        "print(-2 in numeros)"
      ],
      "execution_count": null,
      "outputs": []
    },
    {
      "cell_type": "markdown",
      "metadata": {
        "id": "h4uQ4LgA-keo"
      },
      "source": [
        "#listas multidimensión\n",
        "(listas dentro de listas)"
      ]
    },
    {
      "cell_type": "code",
      "metadata": {
        "id": "ckt-abi66Hjx"
      },
      "source": [
        "computadoras= [\"Hp\",\"mac book pro 17\",\"mate book\",\"Lenovo legión\"]\n",
        "oss=[\"windows 10\",\"linux\",\"android\",\"ios\",]\n",
        "computo=[computadoras,oss]\n",
        "print(computo[0])\n",
        "print(computo[0][2])\n",
        "print(computo[0][2][0:5])\n",
        "print(computo[0][3][5::-1])\n",
        "print(computo[0][3][-8::-1])\n",
        "dbms=[[\"mysql\",\"open source\",False],[\"ms sql sever\",\"de paga\",True]]\n",
        "computo.append(dbms)\n",
        "print(computo)\n",
        "print(computo[2][1][1])"
      ],
      "execution_count": null,
      "outputs": []
    }
  ]
}