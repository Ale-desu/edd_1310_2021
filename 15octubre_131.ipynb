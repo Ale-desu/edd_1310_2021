{
  "nbformat": 4,
  "nbformat_minor": 0,
  "metadata": {
    "colab": {
      "name": "15octubre_131.ipynb",
      "provenance": [],
      "authorship_tag": "ABX9TyNyNQDZQG5CJHbGn+70TSsz",
      "include_colab_link": true
    },
    "kernelspec": {
      "name": "python3",
      "display_name": "Python 3"
    }
  },
  "cells": [
    {
      "cell_type": "markdown",
      "metadata": {
        "id": "view-in-github",
        "colab_type": "text"
      },
      "source": [
        "<a href=\"https://colab.research.google.com/github/Ale-desu/edd_1310_2021/blob/master/15octubre_131.ipynb\" target=\"_parent\"><img src=\"https://colab.research.google.com/assets/colab-badge.svg\" alt=\"Open In Colab\"/></a>"
      ]
    },
    {
      "cell_type": "markdown",
      "metadata": {
        "id": "hDb7ZfQTCGat"
      },
      "source": [
        "#módulos\n",
        "- sonrecursos reutilizables que contienen varias funciones que peuden ser importadas al codigo"
      ]
    },
    {
      "cell_type": "code",
      "metadata": {
        "id": "OFVgsqWb_g7n"
      },
      "source": [
        "\"\"\"\n",
        "import mi_modulo\n",
        "x=mi_modulo.sumar(4,7)\n",
        "print(x)\n",
        "print(mi_modulo.multi(5,4))\n",
        "\"\"\""
      ],
      "execution_count": null,
      "outputs": []
    },
    {
      "cell_type": "code",
      "metadata": {
        "id": "CB905TICKUAZ"
      },
      "source": [
        "from mi_modulo import sumar\n",
        "print(sumar(4,3))"
      ],
      "execution_count": null,
      "outputs": []
    },
    {
      "cell_type": "code",
      "metadata": {
        "id": "d32BFO7UFLH-"
      },
      "source": [
        "cd/content\n",
        "#el cd es para cambiar la ubicacion del archivo\n",
        "#el pdw es para ver donde está el archivo\n",
        "#el as es para cambiar la referencia al metodo"
      ],
      "execution_count": null,
      "outputs": []
    },
    {
      "cell_type": "code",
      "metadata": {
        "id": "Wte8bue4OCxx",
        "outputId": "4c9823b3-9375-4037-a01b-ea9d172f5f8d",
        "colab": {
          "base_uri": "https://localhost:8080/",
          "height": 35
        }
      },
      "source": [
        "from joke_generator import generate\n",
        "generate()"
      ],
      "execution_count": 32,
      "outputs": [
        {
          "output_type": "execute_result",
          "data": {
            "application/vnd.google.colaboratory.intrinsic+json": {
              "type": "string"
            },
            "text/plain": [
              "\"Did you hear about the guy whose whole left side was cut off? He's all right now.\""
            ]
          },
          "metadata": {
            "tags": []
          },
          "execution_count": 32
        }
      ]
    },
    {
      "cell_type": "markdown",
      "metadata": {
        "id": "-BFD_3tNSQzv"
      },
      "source": [
        "#archivos\n",
        "open(str,str)\n",
        "1.- nombre o ruta del archivo\n",
        "2.-dos caracter\n",
        "modo de apertura(r(read),w(write),a(agregar al final si existe),x(agregar al final si no existe)\n",
        "(t(texto),b(binario))"
      ]
    },
    {
      "cell_type": "code",
      "metadata": {
        "id": "bVZXsJrZS7DI"
      },
      "source": [
        "archivo= open(\"saludo.txt\",\"wt\")\n",
        "archivo.write(\"hola mundo\\n que haces?\")\n",
        "archivo.close()"
      ],
      "execution_count": 34,
      "outputs": []
    },
    {
      "cell_type": "code",
      "metadata": {
        "id": "accrrKJzUdqn",
        "outputId": "354133ae-b92c-47b8-b6ed-a5240dc59659",
        "colab": {
          "base_uri": "https://localhost:8080/",
          "height": 34
        }
      },
      "source": [
        "otro=open(\"./sample_data/anscombe.json\",\"rt\")\n",
        "datos=otro.read()\n",
        "#print(datos)\n",
        "otro.close()\n",
        "\n",
        "arch= open(\"frutas.txt\",\"rt\")\n",
        "print(arch.readlines())\n",
        "#print(arch.readline())\n",
        "#print(arch.readline())\n",
        "arch.close()\n",
        "#read, readline, readlines"
      ],
      "execution_count": 40,
      "outputs": [
        {
          "output_type": "stream",
          "text": [
            "['manzana, pera, kiwi\\n', 'limon, naranja, fresas\\n', 'papaya, sandia, uvas']\n"
          ],
          "name": "stdout"
        }
      ]
    },
    {
      "cell_type": "code",
      "metadata": {
        "id": "SPmaJr77WXch"
      },
      "source": [
        ""
      ],
      "execution_count": null,
      "outputs": []
    }
  ]
}