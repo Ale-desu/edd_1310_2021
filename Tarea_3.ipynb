{
  "nbformat": 4,
  "nbformat_minor": 0,
  "metadata": {
    "colab": {
      "name": "Tarea_3.ipynb",
      "provenance": [],
      "authorship_tag": "ABX9TyMXYSzIGfOfZvrH9wJb7PEp",
      "include_colab_link": true
    },
    "kernelspec": {
      "name": "python3",
      "display_name": "Python 3"
    }
  },
  "cells": [
    {
      "cell_type": "markdown",
      "metadata": {
        "id": "view-in-github",
        "colab_type": "text"
      },
      "source": [
        "<a href=\"https://colab.research.google.com/github/Ale-desu/edd_1310_2021/blob/master/Tarea_3.ipynb\" target=\"_parent\"><img src=\"https://colab.research.google.com/assets/colab-badge.svg\" alt=\"Open In Colab\"/></a>"
      ]
    },
    {
      "cell_type": "code",
      "metadata": {
        "id": "34M4RZWX8H9j",
        "outputId": "af5aa5aa-42c7-4b6a-b3b9-70f5043f665a",
        "colab": {
          "base_uri": "https://localhost:8080/",
          "height": 68
        }
      },
      "source": [
        "class Persona:\n",
        "  def __init__(self,name,old,h):\n",
        "    self.__nombre=name\n",
        "    self.__edad=old\n",
        "    self.__estatura=h\n",
        "\n",
        "  def descripcion(self):\n",
        "    return \"Su nombre es \"+self.__nombre+\", tiene \"+self.__edad+\" años y mide \"+self.__estatura\n",
        "  def dormir(self):\n",
        "    return \"Al tener \"+self.__edad+\" tiene que dormir 8 horas minimo\"\n",
        "  def comer(self):\n",
        "    return \"vamos al shine :)\"\n",
        "  \n",
        "humano=Persona(\"juan\",\"32\",\"1.80\")\n",
        "print(humano.descripcion())\n",
        "print(humano.dormir())\n",
        "print(humano.comer())"
      ],
      "execution_count": 20,
      "outputs": [
        {
          "output_type": "stream",
          "text": [
            "Su nombre es juan, tiene 32 años y mide 1.80\n",
            "Al tener 32 tiene que dormir 8 horas minimo\n",
            "vamos al shine :)\n"
          ],
          "name": "stdout"
        }
      ]
    },
    {
      "cell_type": "code",
      "metadata": {
        "id": "jUoCSzM6-QTv",
        "outputId": "850f061e-d7ce-4217-b158-75772995896d",
        "colab": {
          "base_uri": "https://localhost:8080/",
          "height": 68
        }
      },
      "source": [
        "class Celular:\n",
        "  def __init__(self,m,mod,Gb):\n",
        "    self.__marca=m\n",
        "    self.__modelo=mod\n",
        "    self.__memoria=Gb\n",
        "  def info(self):\n",
        "    return \"Marca: \"+self.__marca + \". Modelo: \"+self.__modelo+\". Memoria: 700 Mb libres de \"+self.__memoria\n",
        "  def llamar(self):\n",
        "    return \"su llamada será realizada a partir del siguiente tono\"\n",
        "  def alarma(self):\n",
        "    return \"la alarma sonará dentro de 5 horas\"\n",
        "Smart=Celular(\"Samsung\",\"Galaxy\",\"15Gb\")\n",
        "print(Smart.info())\n",
        "print(Smart.alarma())\n",
        "print(Smart.llamar())"
      ],
      "execution_count": 27,
      "outputs": [
        {
          "output_type": "stream",
          "text": [
            "Marca: Samsung. Modelo: Galaxy. Memoria: 700 Mb libres de 15Gb\n",
            "la alarma sonará dentro de 5 horas\n",
            "su llamada será realizada a partir del siguiente tono\n"
          ],
          "name": "stdout"
        }
      ]
    }
  ]
}