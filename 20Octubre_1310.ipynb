{
  "nbformat": 4,
  "nbformat_minor": 0,
  "metadata": {
    "colab": {
      "name": "20Octubre_1310",
      "provenance": [],
      "collapsed_sections": [],
      "authorship_tag": "ABX9TyN4u5brMYWi4AlsM5cGMMmN",
      "include_colab_link": true
    },
    "kernelspec": {
      "name": "python3",
      "display_name": "Python 3"
    }
  },
  "cells": [
    {
      "cell_type": "markdown",
      "metadata": {
        "id": "view-in-github",
        "colab_type": "text"
      },
      "source": [
        "<a href=\"https://colab.research.google.com/github/Ale-desu/edd_1310_2021/blob/master/20Octubre_1310.ipynb\" target=\"_parent\"><img src=\"https://colab.research.google.com/assets/colab-badge.svg\" alt=\"Open In Colab\"/></a>"
      ]
    },
    {
      "cell_type": "markdown",
      "metadata": {
        "id": "nvF5F1dk2xGk"
      },
      "source": [
        "#sintaxis del for\n",
        "dos tipos de for\n",
        "  - range\n",
        "  - in iterador"
      ]
    },
    {
      "cell_type": "code",
      "metadata": {
        "id": "NWvTmIwByMSg",
        "outputId": "7c1b30f5-9416-486d-cd72-901cb65384ab",
        "colab": {
          "base_uri": "https://localhost:8080/",
          "height": 170
        }
      },
      "source": [
        "r=range(0,10,2)\n",
        "for x in r:\n",
        "  print(x)\n",
        "\n",
        "colores=[\"rojo\",\"rosa\",\"azul\",\"fucsia\"]\n",
        "for indice in range(0,4,1):\n",
        "  print(colores[indice])\n",
        "#para mostrar los objetos \"in \"arreglo\"\"\n",
        "#para modificar es el in range\n",
        "for col in colores:\n",
        "  print(col) "
      ],
      "execution_count": 3,
      "outputs": [
        {
          "output_type": "stream",
          "text": [
            "0\n",
            "2\n",
            "4\n",
            "6\n",
            "8\n",
            "rojo\n",
            "rosa\n",
            "azul\n",
            "fucsia\n"
          ],
          "name": "stdout"
        }
      ]
    },
    {
      "cell_type": "markdown",
      "metadata": {
        "id": "vZLNQJxt7-5T"
      },
      "source": [
        "#generador\n",
        "[valor for x in range()] \n",
        "- esto genera listas"
      ]
    },
    {
      "cell_type": "code",
      "metadata": {
        "id": "Fc6K4c6i8dsh",
        "outputId": "5f06d57a-691c-4537-85ad-dbb9b7c8ce2a",
        "colab": {
          "base_uri": "https://localhost:8080/",
          "height": 51
        }
      },
      "source": [
        "lista=[x for x in range(10)]\n",
        "print(lista)\n",
        "ren=3\n",
        "col=3\n",
        "lista=[[0 for x in range(col)]for x in range(ren)]\n",
        "print(lista)"
      ],
      "execution_count": 8,
      "outputs": [
        {
          "output_type": "stream",
          "text": [
            "[0, 1, 2, 3, 4, 5, 6, 7, 8, 9]\n",
            "[[0, 0, 0], [0, 0, 0], [0, 0, 0]]\n"
          ],
          "name": "stdout"
        }
      ]
    },
    {
      "cell_type": "markdown",
      "metadata": {
        "id": "NatBwyVb_Ms-"
      },
      "source": [
        "#poo en python\n",
        "- clase\n",
        "- creacion de objetos\n",
        "- constructor\n",
        "- encapsulamiento\n",
        "- métodos\n",
        "- atributos\n",
        "- herencia"
      ]
    },
    {
      "cell_type": "code",
      "metadata": {
        "id": "QTMLL04__KUR",
        "outputId": "6b2fa6af-6bb2-4d8a-c8cc-af0c25f9cbf7",
        "colab": {
          "base_uri": "https://localhost:8080/",
          "height": 34
        }
      },
      "source": [
        "class Computadora:\n",
        "  def __init__(self,m,p): #Este es el constructor y  tiene que ser así, no le muevas\n",
        "    self.__marca=m\n",
        "    self.__procesador=p\n",
        "  def to_string(self):\n",
        "    return \"Marca:\"+self.__marca +\" procesador:\"+ self.__procesador\n",
        "mi_pc=Computadora(\"toshiba\",\"intel\")\n",
        "print(mi_pc.to_string())\n",
        "#dos guiones bajos \"__\"hace la variable priva (y tambien cambia el nombre)"
      ],
      "execution_count": 12,
      "outputs": [
        {
          "output_type": "stream",
          "text": [
            "Marca:toshiba procesador:intel\n"
          ],
          "name": "stdout"
        }
      ]
    }
  ]
}