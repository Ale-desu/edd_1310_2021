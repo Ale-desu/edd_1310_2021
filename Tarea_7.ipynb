{
  "nbformat": 4,
  "nbformat_minor": 0,
  "metadata": {
    "colab": {
      "name": "Tarea_7.ipynb",
      "provenance": [],
      "authorship_tag": "ABX9TyO6bIfMO+MtFpYCpcMtPeQA",
      "include_colab_link": true
    },
    "kernelspec": {
      "display_name": "Python 3",
      "name": "python3"
    }
  },
  "cells": [
    {
      "cell_type": "markdown",
      "metadata": {
        "id": "view-in-github",
        "colab_type": "text"
      },
      "source": [
        "<a href=\"https://colab.research.google.com/github/Ale-desu/edd_1310_2021/blob/master/Tarea_7.ipynb\" target=\"_parent\"><img src=\"https://colab.research.google.com/assets/colab-badge.svg\" alt=\"Open In Colab\"/></a>"
      ]
    },
    {
      "cell_type": "code",
      "metadata": {
        "id": "JnPUUGkHcODj"
      },
      "source": [
        "class nodoDoble:\n",
        "  def __init__(self, valor,sig=None, anterior=None):\n",
        "    self.dato=valor\n",
        "    self.next=sig\n",
        "    self.prev=anterior\n",
        "    \n",
        "class doubleLink:\n",
        "  def __init__(self):\n",
        "    self.__head=None\n",
        "    self.__tail=None\n",
        "    #self.__head=nodoDoble(None,None,None)\n",
        "   # self.__tail=nodoDoble(None,None,None)\n",
        " #   self.__head.next=self.__tail\n",
        "  #  self.__tail.prev=self.__head\n",
        "    self.__size=0\n",
        "\n",
        "  def get_size(self):\n",
        "    print(f\"la cantidad es de:{self.__size}\")\n",
        "  \n",
        "  def is_empty(self):\n",
        "    vrai=self.__head==None and self.__tail==None\n",
        "    print(vrai)\n",
        "\n",
        "  def append (self, val):\n",
        "    nuevo=nodoDoble(val)\n",
        "    self.__size=self.__size+1\n",
        "    if self.__head==None:\n",
        "      self.__tail=self.__head=nuevo\n",
        "    else:\n",
        "      self.__tail.next=nuevo\n",
        "      nuevo.prev=self.__tail\n",
        "      self.__tail= nuevo\n",
        "      #while curr_node.next !=None:\n",
        "       #    curr_node=curr_node.next\n",
        "      #curr_node.next=nuevo\n",
        "      #self.__tail=curr_node.next\n",
        "\n",
        "  def transversal(self):\n",
        "        curr_node=self.__head\n",
        "        while curr_node != None:\n",
        "            print(f\"{curr_node.dato}->\",end=\"\")\n",
        "            curr_node=curr_node.next\n",
        "        print(\"\")\n",
        "\n",
        "  def R_transversal(self):\n",
        "        curr_node=self.__tail\n",
        "        while curr_node != None:\n",
        "            print(f\"{curr_node.dato}->\",end=\"\")\n",
        "            curr_node=curr_node.prev\n",
        "        print(\"\")\n",
        "\n",
        "  def f_from_tail(self, val):\n",
        "    cont=-1\n",
        "    vrai=False\n",
        "    curr_node=self.__tail\n",
        "    while curr_node!=None and vrai==False:\n",
        "      vrai=curr_node.dato==val\n",
        "      curr_node=curr_node.prev\n",
        "      cont=cont+1\n",
        "    if vrai==True:\n",
        "      print(f\"el dato esta en la posicion:{cont}\")\n",
        "    else:\n",
        "      print(\"el dato no existe\")\n",
        "      return cont\n",
        "\n",
        "  def f_from_head(self, val):\n",
        "    cont=-1\n",
        "    vrai=False\n",
        "    curr_node=self.__head\n",
        "    while curr_node!=None and vrai==False:\n",
        "      vrai=curr_node.dato==val\n",
        "      curr_node=curr_node.next\n",
        "      cont=cont+1\n",
        "    if vrai==True:\n",
        "      print(f\"el dato esta en la posicion:{cont}\")\n",
        "    else:\n",
        "      print(\"el dato no existe\")\n",
        "\n",
        "  def R_from_head(self,value):\n",
        "      curr_node=self.__head\n",
        "      if self.__head.dato==value:\n",
        "        self.__head=self.__head.next\n",
        "      else:\n",
        "        anterior=None\n",
        "        while curr_node.dato !=value and curr_node.next:\n",
        "          anterior=curr_node\n",
        "          curr_node=curr_node.next\n",
        "        if curr_node.dato== value:\n",
        "          anterior.next=curr_node.next\n",
        "        else:\n",
        "          print(\"el dato no existe\")\n",
        "\n",
        "  def R_from_tail(self,value):\n",
        "      curr_node=self.__tail\n",
        "      if self.__tail.dato==value:\n",
        "        self.__tail=self.__tail.siguiente\n",
        "      else:\n",
        "        sig=None\n",
        "        while curr_node.dato !=value and curr_node.prev:\n",
        "          sig=curr_node\n",
        "          curr_node=curr_node.prev\n",
        "        if curr_node.dato== value:\n",
        "          sig.prev=curr_node.prev\n",
        "          self.R_from_head(value)\n",
        "        else:\n",
        "          print(\"el dato no existe\")"
      ],
      "execution_count": 12,
      "outputs": []
    },
    {
      "cell_type": "code",
      "metadata": {
        "colab": {
          "base_uri": "https://localhost:8080/"
        },
        "id": "yJFaunnhZ7Cx",
        "outputId": "7f9c9a23-d266-4b1d-bd3b-a4be13ae97a5"
      },
      "source": [
        "n=doubleLink()\n",
        "n.is_empty()\n",
        "n.append(10)\n",
        "n.append(5)\n",
        "n.append(20)\n",
        "n.append(25)\n",
        "n.append(13)\n",
        "n.append(8)\n",
        "n.get_size()\n",
        "n.transversal()\n",
        "n.R_transversal()\n",
        "n.f_from_tail(25)\n",
        "n.f_from_head(13)\n",
        "n.R_from_tail(5)\n",
        "n.R_transversal()\n",
        "n.transversal()"
      ],
      "execution_count": 13,
      "outputs": [
        {
          "output_type": "stream",
          "text": [
            "True\n",
            "la cantidad es de:6\n",
            "10->5->20->25->13->8->\n",
            "8->13->25->20->5->10->\n",
            "el dato esta en la posicion:2\n",
            "el dato esta en la posicion:4\n",
            "8->13->25->20->10->\n",
            "10->20->25->13->8->\n"
          ],
          "name": "stdout"
        }
      ]
    }
  ]
}