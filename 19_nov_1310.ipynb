{
  "nbformat": 4,
  "nbformat_minor": 0,
  "metadata": {
    "colab": {
      "name": "19_nov_1310.ipynb",
      "provenance": [],
      "authorship_tag": "ABX9TyNXc942uag5TXzEooi+Kel4",
      "include_colab_link": true
    },
    "kernelspec": {
      "name": "python3",
      "display_name": "Python 3"
    }
  },
  "cells": [
    {
      "cell_type": "markdown",
      "metadata": {
        "id": "view-in-github",
        "colab_type": "text"
      },
      "source": [
        "<a href=\"https://colab.research.google.com/github/Ale-desu/edd_1310_2021/blob/master/19_nov_1310.ipynb\" target=\"_parent\"><img src=\"https://colab.research.google.com/assets/colab-badge.svg\" alt=\"Open In Colab\"/></a>"
      ]
    },
    {
      "cell_type": "code",
      "metadata": {
        "id": "tlYgK67SsK_d"
      },
      "source": [
        "class nodo:\n",
        "    def __init__(self, valor, siguiente= None):\n",
        "        self.dato=valor\n",
        "        self.siguiente=siguiente\n",
        "\n",
        "class linked_list:\n",
        "    def __init__(self):\n",
        "        self.__head= None\n",
        "    def is_empty(self):\n",
        "        return self.__head==None\n",
        "    def append (self,value):\n",
        "        nuevo=nodo(value)\n",
        "        if self.__head==None:\n",
        "            self.__head=nuevo\n",
        "        else:\n",
        "            curr_node=self.__head\n",
        "            while curr_node.siguiente !=None:\n",
        "                curr_node=curr_node.siguiente\n",
        "            curr_node.siguiente=nuevo\n",
        "    def transversal(self):\n",
        "        curr_node=self.__head\n",
        "        while curr_node != None:\n",
        "            print(f\"{curr_node.dato}->\",end=\"\")\n",
        "            curr_node=curr_node.siguiente\n",
        "        print(\"\")\n",
        "    def tail(self):\n",
        "        curr_node=self.__head\n",
        "        while curr_node.siguiente != None:\n",
        "            curr_node=curr_node.siguiente\n",
        "        return curr_node\n",
        "    def remove(self,value):\n",
        "      curr_node=self.__head\n",
        "      if self.__head==value:\n",
        "        self.__head=self.__head.siguiente\n",
        "      else:\n",
        "        anterior=None\n",
        "        while curr_node !=value and curr_node.siguiente:\n",
        "          anterior=curr_node\n",
        "          curr_node=curr_node.siguiente\n",
        "        if curr_node.dato== value:\n",
        "          anterior.siguiente=curr_node.siguiente\n",
        "        else:\n",
        "          print(\"el dato no existe\")\n",
        "\n",
        "    def preppeend (self, value):\n",
        "      nuevo=nodo(value,self.__head)\n",
        "      self.__head=nuevo\n",
        "\n",
        "    def get (self,posicion=None):\n",
        "      contador=0\n",
        "      dato=None\n",
        "      if posicion==None:\n",
        "        dato=self.tail().data\n",
        "      else:\n",
        "        pass\n",
        "      return dato"
      ],
      "execution_count": 14,
      "outputs": []
    },
    {
      "cell_type": "code",
      "metadata": {
        "colab": {
          "base_uri": "https://localhost:8080/"
        },
        "id": "RvnJCRaTxq-B",
        "outputId": "72e958a5-50eb-4ead-956d-6ae58b5fdee8"
      },
      "source": [
        "l=linked_list()\n",
        "l.append(10)\n",
        "l.append(5)\n",
        "l.append(20)\n",
        "l.transversal()\n",
        "l.remove(5)\n",
        "l.transversal()\n",
        "l.preppeend(3)\n",
        "l.transversal()"
      ],
      "execution_count": 16,
      "outputs": [
        {
          "output_type": "stream",
          "text": [
            "10->5->20->\n",
            "el dato no existe\n",
            "10->5->20->\n",
            "3->10->5->20->\n"
          ],
          "name": "stdout"
        }
      ]
    }
  ]
}