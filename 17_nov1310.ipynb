{
  "nbformat": 4,
  "nbformat_minor": 0,
  "metadata": {
    "colab": {
      "name": "17_nov1310.ipynb",
      "provenance": [],
      "authorship_tag": "ABX9TyOi0GMn5AvQ0cYc2KyWVcED",
      "include_colab_link": true
    },
    "kernelspec": {
      "name": "python3",
      "display_name": "Python 3"
    }
  },
  "cells": [
    {
      "cell_type": "markdown",
      "metadata": {
        "id": "view-in-github",
        "colab_type": "text"
      },
      "source": [
        "<a href=\"https://colab.research.google.com/github/Ale-desu/edd_1310_2021/blob/master/17_nov1310.ipynb\" target=\"_parent\"><img src=\"https://colab.research.google.com/assets/colab-badge.svg\" alt=\"Open In Colab\"/></a>"
      ]
    },
    {
      "cell_type": "code",
      "metadata": {
        "id": "MTtXm3ruQlq8"
      },
      "source": [
        "class nodo:\n",
        "    def __init__(self, valor, siguiente= None):\n",
        "        self.dato=valor\n",
        "        self.siguiente=siguiente\n",
        "\n",
        "class linked_list:\n",
        "    def __init__(self):\n",
        "        self.__head= None\n",
        "    def is_empty(self):\n",
        "        return self.__head==None\n",
        "    def append(self,value):\n",
        "        nuevo=nodo(value)\n",
        "        if self.__head==None:\n",
        "            self.__head=nuevo\n",
        "        else:\n",
        "            curr_node=self.__head\n",
        "            while curr_node.siguiente !=None:\n",
        "                curr_node=curr_node.siguiente\n",
        "            curr_node.siguiente=nuevo\n",
        "    def transversal(self):\n",
        "        curr_node=self.__head\n",
        "        while curr_node != None:\n",
        "            print(f\"{curr_node.dato}->\",end=\"\")\n",
        "            curr_node=curr_node.siguiente\n",
        "        print(\"\")\n"
      ],
      "execution_count": 8,
      "outputs": []
    },
    {
      "cell_type": "code",
      "metadata": {
        "colab": {
          "base_uri": "https://localhost:8080/"
        },
        "id": "f_W_yPm_dmZ5",
        "outputId": "a9ab95d9-0369-4746-d052-391ae78be988"
      },
      "source": [
        "l=linked_list()\n",
        "print(f\"L está vacia? {l.is_empty()}\")\n",
        "l.append(10)\n",
        "l.append(5)\n",
        "l.append(20)\n",
        "print(f\"L está vacia? {l.is_empty()}\")\n",
        "l.transversal()"
      ],
      "execution_count": 10,
      "outputs": [
        {
          "output_type": "stream",
          "text": [
            "L está vacia? True\n",
            "L está vacia? False\n",
            "10->5->20->\n"
          ],
          "name": "stdout"
        }
      ]
    }
  ]
}