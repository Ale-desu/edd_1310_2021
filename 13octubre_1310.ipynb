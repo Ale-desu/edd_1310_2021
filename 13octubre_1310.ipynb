{
  "nbformat": 4,
  "nbformat_minor": 0,
  "metadata": {
    "colab": {
      "name": "13octubre_1310",
      "provenance": [],
      "authorship_tag": "ABX9TyMD+wDdtII9OOHuk6Zm7rtO",
      "include_colab_link": true
    },
    "kernelspec": {
      "name": "python3",
      "display_name": "Python 3"
    }
  },
  "cells": [
    {
      "cell_type": "markdown",
      "metadata": {
        "id": "view-in-github",
        "colab_type": "text"
      },
      "source": [
        "<a href=\"https://colab.research.google.com/github/Ale-desu/edd_1310_2021/blob/master/13octubre_1310.ipynb\" target=\"_parent\"><img src=\"https://colab.research.google.com/assets/colab-badge.svg\" alt=\"Open In Colab\"/></a>"
      ]
    },
    {
      "cell_type": "code",
      "metadata": {
        "id": "KPh75obAtGZ3"
      },
      "source": [
        "alumno = { \n",
        "          \"num_cta\" : 303030303 ,\n",
        "          \"carrera\" : \"ICO\",\n",
        "          \"promedio\" : 9.8,\n",
        "          \"materias\" :[\"EDD\",\"CyP\",\"Calidad\",\"Emprendimiento\"],\n",
        "          \"direccion\" : { \n",
        "                            \"calle\":\"rancho seco\",\n",
        "                            \"numero\" : 23 ,\n",
        "                            \"delegacion\" : \"Neza\",\n",
        "                            \"estado\" : {\n",
        "                                        \"id\" : 15 ,\n",
        "                                        \"nombre\" : \"Estado de Máxico\" ,\n",
        "                                        \"nombre_corto\" : \"EdoMex\"\n",
        "                                        } ,\n",
        "                            \"CP\":57170\n",
        "\n",
        "                        } \n",
        "          }"
      ],
      "execution_count": null,
      "outputs": []
    },
    {
      "cell_type": "code",
      "metadata": {
        "id": "T5zUkiQNwJbR",
        "outputId": "f25b51b8-a624-420d-9091-bc7cef7ac079",
        "colab": {
          "base_uri": "https://localhost:8080/",
          "height": 105
        }
      },
      "source": [
        "          print(alumno)\n",
        "          alumno[\"carrera\"]=\"ingenieria en computación\"\n",
        "          print(alumno)\n",
        "          alumno[\"nombre_completo\"]={\"primer\":\"juan\",\n",
        "                                     \"segundo\":\"pedro\",\n",
        "                                     \"materno\":\"gomez\",\n",
        "                                     \"paterno\":\"escutia\"\n",
        "          }\n",
        "          alumno[\"semestre\"]=3\n",
        "          print(alumno)\n",
        "          print(f\"\"\"{alumno[\"nombre_completo\"][\"primer\"]}{alumno[\"nombre_completo\"][\"primer\"]}\"\"\")"
      ],
      "execution_count": 18,
      "outputs": [
        {
          "output_type": "stream",
          "text": [
            "{'num_cta': 303030303, 'carrera': 'ingenieria en computación', 'promedio': 9.8, 'materias': ['EDD', 'CyP', 'Calidad', 'Emprendimiento'], 'direccion': {'calle': 'rancho seco', 'numero': 23, 'delegacion': 'Neza', 'estado': {'id': 15, 'nombre': 'Estado de Máxico', 'nombre_corto': 'EdoMex'}, 'CP': 57170}}\n",
            "{'num_cta': 303030303, 'carrera': 'ingenieria en computación', 'promedio': 9.8, 'materias': ['EDD', 'CyP', 'Calidad', 'Emprendimiento'], 'direccion': {'calle': 'rancho seco', 'numero': 23, 'delegacion': 'Neza', 'estado': {'id': 15, 'nombre': 'Estado de Máxico', 'nombre_corto': 'EdoMex'}, 'CP': 57170}}\n",
            "{'num_cta': 303030303, 'carrera': 'ingenieria en computación', 'promedio': 9.8, 'materias': ['EDD', 'CyP', 'Calidad', 'Emprendimiento'], 'direccion': {'calle': 'rancho seco', 'numero': 23, 'delegacion': 'Neza', 'estado': {'id': 15, 'nombre': 'Estado de Máxico', 'nombre_corto': 'EdoMex'}, 'CP': 57170}, 'nombre_completo': {'primer': 'juan', 'segundo': 'pedro', 'materno': 'gomez', 'paterno': 'escutia'}, 'semestre': 3}\n",
            "juanjuan\n"
          ],
          "name": "stdout"
        }
      ]
    },
    {
      "cell_type": "code",
      "metadata": {
        "id": "-MhUpF8Ny_1G"
      },
      "source": [
        "llaves=alumno.keys()\n",
        "print(llaves)\n",
        "for(llave in llaves):\n",
        "  print(llaves.upper())\n",
        "valores=alumno.values()\n",
        "for val in valores:\n",
        "  print(val)\n",
        "  pares=alumno.items()\n",
        "  print(pares)\n",
        "  for elem in pares:\n",
        "    print(f\"el campo{elem[0]} tiene el valor[elem[1]}\")"
      ],
      "execution_count": null,
      "outputs": []
    },
    {
      "cell_type": "code",
      "metadata": {
        "id": "hnOjv4ek09GV",
        "outputId": "9400a7fd-2aae-424c-d10b-a2d6e4a96eef",
        "colab": {
          "base_uri": "https://localhost:8080/",
          "height": 34
        }
      },
      "source": [
        "computadora={\"procesador\":\"intel i7\",\"ram\":\"kingstone 128Gb\"}\n",
        "otros={\"monitor\":\"lg 49\\\"\",\"hd\":\"toshiba 1T\"}\n",
        "computadora.update(otros)\n",
        "print(computadora)\n"
      ],
      "execution_count": 21,
      "outputs": [
        {
          "output_type": "stream",
          "text": [
            "{'procesador': 'intel i7', 'ram': 'kingstone 128Gb', 'monitor': 'lg 49\"', 'hd': 'toshiba 1T'}\n"
          ],
          "name": "stdout"
        }
      ]
    },
    {
      "cell_type": "markdown",
      "metadata": {
        "id": "RwrMvuON2rTU"
      },
      "source": [
        "#funciones\n",
        "- son unidades de codigo reutilizable\n",
        "- es un mecanismo de organización de codigo\n",
        "- una función toma de cero a n parametros de entrada\n",
        "- tiene solo una salida (return) de cualquier tipo\n",
        "-solo se puede hacer dos cosas:\n",
        "  - definirla\n",
        "  - llamarla\n",
        "-se definecon la palabra \"def\""
      ]
    },
    {
      "cell_type": "code",
      "metadata": {
        "id": "3WRSwBIpxWYZ",
        "outputId": "890e6973-908a-4010-d91f-451bfbfc443c",
        "colab": {
          "base_uri": "https://localhost:8080/",
          "height": 119
        }
      },
      "source": [
        "def sumar(x,y):\n",
        "  resultado=x+y\n",
        "  return resultado\n",
        "def saludar (nombre):\n",
        "  print(f\"hola {nombre}, como  estas?\")\n",
        "  #return none\n",
        "def multiplicar (valor, veces):\n",
        "  if valor!=None:\n",
        "     c=valor*veces\n",
        "  else:\n",
        "    c=\"no valido\"\n",
        "  return c\n",
        "def operaciones(a,b,c):\n",
        "  res=a+(b/c)\n",
        "  return res\n",
        "\n",
        "\n",
        "print(sumar(10,5))\n",
        "saludar(\"jesus\")\n",
        "print(saludar(\"jose\"))\n",
        "multiplicar(3,12)\n",
        "print(operaciones(2,3,6))\n",
        "print(operaciones(c=2,a=3,b=6))"
      ],
      "execution_count": 32,
      "outputs": [
        {
          "output_type": "stream",
          "text": [
            "15\n",
            "hola jesus, como  estas?\n",
            "hola jose, como  estas?\n",
            "None\n",
            "2.5\n",
            "6.0\n"
          ],
          "name": "stdout"
        }
      ]
    },
    {
      "cell_type": "code",
      "metadata": {
        "id": "5PbdYg3U-mcw",
        "outputId": "11be2834-c487-4d3b-d13b-98e16c5e1678",
        "colab": {
          "base_uri": "https://localhost:8080/",
          "height": 306
        }
      },
      "source": [
        "def comida (primer,fuerte,postre=\"galleta\"):\n",
        "  print(f\"de entrada pidio:{primer}\")\n",
        "  print(f\"de plato fuerte:{fuerte}\")\n",
        "  print(f\"y de postre:{postre}\")\n",
        "\n",
        "def comanda (*opciones):\n",
        "  print(opciones)\n",
        "  print(f\"de entrada pidio:{opciones[0]}\")\n",
        "  print(f\"de plato fuerte:{opciones[1]}\")\n",
        "  print(f\"y de postre:{opciones[2]}\")\n",
        "  print(\"\\n indicaciones extra:\")\n",
        "  for ind in opciones[3::]:\n",
        "    print(f\"\\t{ind}\")\n",
        "comida(\"sopa\",\"pavo\")\n",
        "print(\"-----------------------------------\")\n",
        "comanda(\"sopa\",\"pavo\",\"gelatina\")\n",
        "comanda(\"sopa\",\"pavo\",\"gelatina\",\"limones\")"
      ],
      "execution_count": 40,
      "outputs": [
        {
          "output_type": "stream",
          "text": [
            "de entrada pidio:sopa\n",
            "de plato fuerte:pavo\n",
            "y de postre:galleta\n",
            "-----------------------------------\n",
            "('sopa', 'pavo', 'gelatina')\n",
            "de entrada pidio:sopa\n",
            "de plato fuerte:pavo\n",
            "y de postre:gelatina\n",
            "\n",
            " indicaciones extra:\n",
            "('sopa', 'pavo', 'gelatina', 'limones')\n",
            "de entrada pidio:sopa\n",
            "de plato fuerte:pavo\n",
            "y de postre:gelatina\n",
            "\n",
            " indicaciones extra:\n",
            "\tlimones\n"
          ],
          "name": "stdout"
        }
      ]
    },
    {
      "cell_type": "code",
      "metadata": {
        "id": "05UZ2QlMB7lt",
        "outputId": "d9021a2d-2740-4b5e-8c7c-b2764c62c799",
        "colab": {
          "base_uri": "https://localhost:8080/",
          "height": 102
        }
      },
      "source": [
        "#argumentos posicionales con diccionarios\n",
        "def comanda_2 ( **opciones ):\n",
        "    print(opciones)\n",
        "    for op in opciones.items():\n",
        "      print(f\"{op[0]}->{op[1]}\")\n",
        "    \n",
        "comanda_2(primer=\"sopa\",fuerte=\"pavo\",postre=\"gelatina\",extra=\"limones\")"
      ],
      "execution_count": 43,
      "outputs": [
        {
          "output_type": "stream",
          "text": [
            "{'primer': 'sopa', 'fuerte': 'pavo', 'postre': 'gelatina', 'extra': 'limones'}\n",
            "primer->sopa\n",
            "fuerte->pavo\n",
            "postre->gelatina\n",
            "extra->limones\n"
          ],
          "name": "stdout"
        }
      ]
    }
  ]
}