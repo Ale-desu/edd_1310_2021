{
  "nbformat": 4,
  "nbformat_minor": 0,
  "metadata": {
    "colab": {
      "name": "Tarea_6.ipynb",
      "provenance": [],
      "authorship_tag": "ABX9TyPtSnEc3oFbpwGdS9QDSMSN",
      "include_colab_link": true
    },
    "kernelspec": {
      "name": "python3",
      "display_name": "Python 3"
    }
  },
  "cells": [
    {
      "cell_type": "markdown",
      "metadata": {
        "id": "view-in-github",
        "colab_type": "text"
      },
      "source": [
        "<a href=\"https://colab.research.google.com/github/Ale-desu/edd_1310_2021/blob/master/Tarea_6.ipynb\" target=\"_parent\"><img src=\"https://colab.research.google.com/assets/colab-badge.svg\" alt=\"Open In Colab\"/></a>"
      ]
    },
    {
      "cell_type": "code",
      "metadata": {
        "id": "5v7seADuYfnu"
      },
      "source": [
        "class nodo:\n",
        "    def __init__(self, valor, siguiente= None):\n",
        "        self.dato=valor\n",
        "        self.siguiente=siguiente\n",
        "\n",
        "class linked_list:\n",
        "    def __init__(self):\n",
        "        self.__head= None\n",
        "    def is_empty(self):\n",
        "        return self.__head==None\n",
        "    def append (self,value):\n",
        "        nuevo=nodo(value)\n",
        "        if self.__head==None:\n",
        "            self.__head=nuevo\n",
        "        else:\n",
        "            curr_node=self.__head\n",
        "            while curr_node.siguiente !=None:\n",
        "                curr_node=curr_node.siguiente\n",
        "            curr_node.siguiente=nuevo\n",
        "    def transversal(self):\n",
        "        curr_node=self.__head\n",
        "        while curr_node != None:\n",
        "            print(f\"{curr_node.dato}->\",end=\"\")\n",
        "            curr_node=curr_node.siguiente\n",
        "        print(\"\")\n",
        "    def tail(self):\n",
        "        curr_node=self.__head\n",
        "        while curr_node.siguiente != None:\n",
        "            curr_node=curr_node.siguiente\n",
        "        return curr_node\n",
        "    def remove(self,value):\n",
        "      curr_node=self.__head\n",
        "      if self.__head.dato==value:\n",
        "        self.__head=self.__head.siguiente\n",
        "      else:\n",
        "        anterior=None\n",
        "        while curr_node.dato !=value and curr_node.siguiente:\n",
        "          anterior=curr_node\n",
        "          curr_node=curr_node.siguiente\n",
        "        if curr_node.dato== value:\n",
        "          anterior.siguiente=curr_node.siguiente\n",
        "        else:\n",
        "          print(\"el dato no existe\")\n",
        "    def preppeend (self, value):\n",
        "      nuevo=nodo(value,self.__head)\n",
        "      self.__head=nuevo\n",
        "    def get (self,posicion=None):\n",
        "      contador=0\n",
        "      data=None\n",
        "      if posicion==None:\n",
        "        data=self.tail().dato\n",
        "      else:\n",
        "        curr_node=self.__head\n",
        "        while curr_node != None:\n",
        "          contador=contador+1\n",
        "          curr_node=curr_node.siguiente\n",
        "        if posicion > contador or posicion<0:\n",
        "          print(\"no hay datos\")   \n",
        "        else:\n",
        "          curr_node=self.__head\n",
        "          for x in range (0,posicion,1):\n",
        "            curr_node=curr_node.siguiente\n",
        "          data= curr_node.dato\n",
        "          return data\n",
        " #         print(f\"el dato es -> {curr_node.dato}\")"
      ],
      "execution_count": 1,
      "outputs": []
    },
    {
      "cell_type": "code",
      "metadata": {
        "colab": {
          "base_uri": "https://localhost:8080/"
        },
        "id": "hAsJChsYYmds",
        "outputId": "2355fa6a-63cb-4aab-9cbb-c20e65ea48d7"
      },
      "source": [
        "l=linked_list()\n",
        "l.append(10)\n",
        "l.append(5)\n",
        "l.append(20)\n",
        "l.append(25)\n",
        "l.append(13)\n",
        "l.append(8)\n",
        "l.transversal()\n",
        "l.remove(5)\n",
        "l.transversal()\n",
        "l.preppeend(3)\n",
        "l.transversal()\n",
        "l.get(-5)\n",
        "l.get(21)\n",
        "l.get(4)"
      ],
      "execution_count": 2,
      "outputs": [
        {
          "output_type": "stream",
          "text": [
            "10->5->20->25->13->8->\n",
            "10->20->25->13->8->\n",
            "3->10->20->25->13->8->\n",
            "no hay datos\n",
            "no hay datos\n"
          ],
          "name": "stdout"
        },
        {
          "output_type": "execute_result",
          "data": {
            "text/plain": [
              "13"
            ]
          },
          "metadata": {
            "tags": []
          },
          "execution_count": 2
        }
      ]
    }
  ]
}