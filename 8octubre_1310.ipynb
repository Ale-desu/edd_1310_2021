{
  "nbformat": 4,
  "nbformat_minor": 0,
  "metadata": {
    "colab": {
      "name": "8octubre_1310.ipynb",
      "provenance": [],
      "authorship_tag": "ABX9TyN9/qb+UOlfa3cOFC8OGTlK",
      "include_colab_link": true
    },
    "kernelspec": {
      "name": "python3",
      "display_name": "Python 3"
    }
  },
  "cells": [
    {
      "cell_type": "markdown",
      "metadata": {
        "id": "view-in-github",
        "colab_type": "text"
      },
      "source": [
        "<a href=\"https://colab.research.google.com/github/Ale-desu/edd_1310_2021/blob/master/8octubre_1310.ipynb\" target=\"_parent\"><img src=\"https://colab.research.google.com/assets/colab-badge.svg\" alt=\"Open In Colab\"/></a>"
      ]
    },
    {
      "cell_type": "code",
      "metadata": {
        "id": "3394uMXM7gRR",
        "outputId": "f6dbf9f3-0025-4947-b30d-61cc787b0b31",
        "colab": {
          "base_uri": "https://localhost:8080/",
          "height": 102
        }
      },
      "source": [
        "#listas multidimensión\n",
        "monitores =[[\"Samsung\",\"17.3 \\\"\",1024],[\"BenQ\",\"40\\\"\",2048]]\n",
        "procesadores = [[\"Intel\",\"i7\",3.4],[\"AMD\",\"razzer\",3.3],[\"Intel\",\"i3\",3.1]]\n",
        "memorias = [[\"Kingston\", \"8GB\",\"DDR4\"],[\"Kingston\", \"16GB\",\"DDR3\"],[\"ADATA\", \"32GB\",\"DDR4\"]]\n",
        "\n",
        "componentes = [monitores,procesadores,memorias]\n",
        "print(componentes[2][1][1])\n",
        "print(len(componentes[1][1]))\n",
        "print(int (componentes[0][1][2])*2)\n",
        "print(componentes[1][1][1][1:4:1])\n",
        "print((componentes[2][2][0]).lower())\n"
      ],
      "execution_count": 17,
      "outputs": [
        {
          "output_type": "stream",
          "text": [
            "16GB\n",
            "3\n",
            "4096\n",
            "azz\n",
            "adata\n"
          ],
          "name": "stdout"
        }
      ]
    },
    {
      "cell_type": "code",
      "metadata": {
        "id": "TBlKPaVOHzb6"
      },
      "source": [
        "#extender listas\n",
        "frutas=[\"manzana\",\"pera\"]\n",
        "otras=[\"aguacate\",\"naranja\"]\n",
        "print(frutas)\n",
        "#+ en listas\n",
        "#frutas= frutas+otras\n",
        "#print(frutas)\n",
        "#función extend\n",
        "frutas.extend(otras)\n",
        "print(frutas)\n",
        "#frutas.append(otras)\n",
        "#print(frutas)\n",
        "\n",
        "colores=[\"azul\",\"verde\",\"amarillo\",\"violeta\"]\n",
        "otros=colores\n",
        "print(colores)\n",
        "print(otros)\n",
        "otros.append(\"rosa\")\n",
        "print(colores)\n",
        "print(otros)\n",
        "una_mas=colores.copy()\n",
        "una_mas.append(\"rojo\")\n",
        "print(una_mas)"
      ],
      "execution_count": null,
      "outputs": []
    },
    {
      "cell_type": "code",
      "metadata": {
        "id": "2t1CUiciO95O"
      },
      "source": [
        "#unpacking\n",
        "alumno=[\"jesus\",\"hernandez\",\"herrera\",\"ICO\",22,10.0]\n",
        "nombre,paterno,materno,carrera,edad,prom=alumno\n",
        "print(f\"alumno:{nombre} carrera:{carrera} edad:{edad} promedio:{prom}\")"
      ],
      "execution_count": null,
      "outputs": []
    },
    {
      "cell_type": "markdown",
      "metadata": {
        "id": "NI4DOlNNR3ai"
      },
      "source": [
        "#tuplas\n",
        "-se declaran con \"()\" \n",
        "-el selector es con corchetes\n",
        "-no son mutables"
      ]
    },
    {
      "cell_type": "code",
      "metadata": {
        "id": "PDCwzB1ySL2z",
        "outputId": "82aa03e5-96ca-4061-dce9-bed0ee4d2f07",
        "colab": {
          "base_uri": "https://localhost:8080/",
          "height": 34
        }
      },
      "source": [
        "precios=(99.9,49.9,12.45)\n",
        "# la tupla es una lista de constantes \n",
        "print(precios[1])"
      ],
      "execution_count": 33,
      "outputs": [
        {
          "output_type": "stream",
          "text": [
            "49.9\n"
          ],
          "name": "stdout"
        }
      ]
    },
    {
      "cell_type": "markdown",
      "metadata": {
        "id": "6-vUqpCATmAd"
      },
      "source": [
        "#diccionarios\n",
        "-son mutables\n",
        "-se declaran con llaves{ }\n",
        "-equivalentes a los JSON de javascript"
      ]
    },
    {
      "cell_type": "code",
      "metadata": {
        "id": "MW9odfUhT5JM",
        "outputId": "56ec3006-236a-49d2-b6fa-7c227d412ec8",
        "colab": {
          "base_uri": "https://localhost:8080/",
          "height": 51
        }
      },
      "source": [
        "cliente= { }\n",
        "print(cliente)\n",
        "alumno={ \n",
        "    \"num_cta\" : 303030303 ,\n",
        "          \"carrera\" : \"ICO\",\n",
        "          \"promedio\" : 9.8,\n",
        "          \"materias\" :[\"EDD\",\"CyP\",\"Calidad\",\"Emprendimiento\"],\n",
        "          \"direccion\" : { \n",
        "                            \"calle\":\"rancho seco\",\n",
        "                            \"numero\" : 23 ,\n",
        "                            \"delegacion\" : \"Neza\",\n",
        "                            \"estado\" : {\n",
        "                                        \"id\" : 15 ,\n",
        "                                        \"nombre\" : \"Estado de Máxico\" ,\n",
        "                                        \"nombre_corto\" : \"EdoMex\"\n",
        "                                        } ,\n",
        "                            \"CP\":57170\n",
        "\n",
        "                        } \n",
        "          }\n",
        "#print(alumno)\n",
        "print(alumno['materias'])\n"
      ],
      "execution_count": 41,
      "outputs": [
        {
          "output_type": "stream",
          "text": [
            "{}\n",
            "['EDD', 'CyP', 'Calidad', 'Emprendimiento']\n"
          ],
          "name": "stdout"
        }
      ]
    }
  ]
}