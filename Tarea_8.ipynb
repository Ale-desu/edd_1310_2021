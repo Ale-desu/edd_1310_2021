{
  "nbformat": 4,
  "nbformat_minor": 0,
  "metadata": {
    "colab": {
      "name": "Tarea 8",
      "provenance": [],
      "authorship_tag": "ABX9TyO9tahS+5xgiEXHPaKUS7IK",
      "include_colab_link": true
    },
    "kernelspec": {
      "name": "python3",
      "display_name": "Python 3"
    }
  },
  "cells": [
    {
      "cell_type": "markdown",
      "metadata": {
        "id": "view-in-github",
        "colab_type": "text"
      },
      "source": [
        "<a href=\"https://colab.research.google.com/github/Ale-desu/edd_1310_2021/blob/master/Tarea_8.ipynb\" target=\"_parent\"><img src=\"https://colab.research.google.com/assets/colab-badge.svg\" alt=\"Open In Colab\"/></a>"
      ]
    },
    {
      "cell_type": "code",
      "metadata": {
        "id": "GCCrJ9TUudWz"
      },
      "source": [
        "class nodo:\n",
        "    def __init__(self, valor, siguiente= None):\n",
        "        self.dato=valor\n",
        "        self.siguiente=siguiente\n",
        "\n",
        "class CircularList:\n",
        "    def __init__(self):\n",
        "        self.__head= None\n",
        "        self.__cont=0\n",
        "\n",
        "    def is_empty(self):\n",
        "        return self.__head==None\n",
        "\n",
        "    def insert (self,value):\n",
        "        nuevo=nodo(value)\n",
        "        if self.__head==None:\n",
        "            self.__head=nuevo\n",
        "            curr_node=self.__head\n",
        "            curr_node.siguiente=self.__head\n",
        "            self.__cont=self.__cont+1\n",
        "        elif self.search(value) == False:\n",
        "         curr_node=self.__head\n",
        "         if value> self.__head.dato:\n",
        "            nuevo=nodo(value,self.__head)\n",
        "            self.__head=nuevo\n",
        "            for x in range(1,self.__cont,1):\n",
        "              curr_node=curr_node.siguiente\n",
        "            curr_node.siguiente=self.__head\n",
        "            self.__cont=self.__cont+1\n",
        "            \n",
        "         elif value < self.tail():\n",
        "           for x in range(1,self.__cont,1):\n",
        "              curr_node=curr_node.siguiente\n",
        "           curr_node.siguiente=nuevo\n",
        "           curr_node.siguiente.siguiente=self.__head\n",
        "           self.__cont=self.__cont+1\n",
        "\n",
        "         else:\n",
        "            next=None\n",
        "            while curr_node.siguiente.dato >value:\n",
        "              curr_node=curr_node.siguiente\n",
        "            next=curr_node.siguiente\n",
        "            curr_node.siguiente=nuevo\n",
        "            curr_node.siguiente.siguiente=next\n",
        "            self.__cont=self.__cont+1\n",
        "        else:\n",
        "          print(f\"el dato: {value} ya existe\")\n",
        "\n",
        "    def transversal(self):\n",
        "        curr_node=self.__head\n",
        "        cont=0\n",
        "        while curr_node != self.__head or cont< self.__cont:\n",
        "            print(f\"{curr_node.dato}->\",end=\"\")\n",
        "            curr_node=curr_node.siguiente\n",
        "            cont=cont+1\n",
        "        print(\"\")\n",
        "\n",
        "    def tail(self):\n",
        "        curr_node=self.__head\n",
        "        cont=0\n",
        "        anterior=None\n",
        "        while curr_node != self.__head or cont< self.__cont:\n",
        "            anterior=curr_node\n",
        "            curr_node=curr_node.siguiente\n",
        "            cont=cont+1\n",
        "        curr_node=anterior\n",
        "        return curr_node.dato\n",
        "\n",
        "    def remove(self,value):\n",
        "      if self.search(value)== True:\n",
        "        curr_node=self.__head\n",
        "        if self.__head.dato==value:\n",
        "          for x in range(1,self.__cont,1):\n",
        "              curr_node=curr_node.siguiente\n",
        "          curr_node.siguiente=self.__head.siguiente\n",
        "          self.__head=self.__head.siguiente\n",
        "          self.__cont=self.__cont-1\n",
        "        else:\n",
        "          anterior=None\n",
        "          while curr_node.dato !=value:\n",
        "            anterior=curr_node\n",
        "            curr_node=curr_node.siguiente\n",
        "          anterior.siguiente=curr_node.siguiente\n",
        "          self.__cont=self.__cont-1\n",
        "      else:\n",
        "        print(f\"el dato:{value} no existe\")\n",
        "    \n",
        "    def search(self, val):\n",
        "      curr_node=self.__head\n",
        "      cont=0\n",
        "      while (curr_node != self.__head or cont< self.__cont) and curr_node.dato!=val:\n",
        "        curr_node=curr_node.siguiente\n",
        "        cont=cont+1\n",
        "      Vrai=curr_node.dato==val\n",
        "      return Vrai\n",
        "\n",
        "    def comp(self):\n",
        "        curr_node=self.__head\n",
        "        cont=0\n",
        "        print(f\"{curr_node.dato}-> referencia\")\n",
        "        while cont< 15:\n",
        "            print(f\"{curr_node.dato}->\",end=\"\")\n",
        "            curr_node=curr_node.siguiente\n",
        "            cont=cont+1\n",
        "        print(\"\")"
      ],
      "execution_count": 26,
      "outputs": []
    },
    {
      "cell_type": "code",
      "metadata": {
        "colab": {
          "base_uri": "https://localhost:8080/"
        },
        "id": "FHx8lZ93un90",
        "outputId": "75f3b3c3-8c97-4b98-cd8d-0dd64350db79"
      },
      "source": [
        "l=CircularList()\n",
        "l.insert(10)\n",
        "l.insert(5)\n",
        "l.insert(20)\n",
        "l.insert(25)\n",
        "l.insert(13)\n",
        "l.insert(8)\n",
        "l.insert(8)\n",
        "l.transversal()\n",
        "\n",
        "l.remove(66)\n",
        "\n",
        "l.remove(25)\n",
        "l.comp()\n",
        "l.remove(13)\n",
        "l.comp()"
      ],
      "execution_count": 27,
      "outputs": [
        {
          "output_type": "stream",
          "text": [
            "el dato: 8 ya existe\n",
            "25->20->13->10->8->5->\n",
            "el dato:66 no existe\n",
            "20-> referencia\n",
            "20->13->10->8->5->20->13->10->8->5->20->13->10->8->5->\n",
            "20-> referencia\n",
            "20->10->8->5->20->10->8->5->20->10->8->5->20->10->8->\n"
          ],
          "name": "stdout"
        }
      ]
    }
  ]
}