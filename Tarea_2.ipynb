{
  "nbformat": 4,
  "nbformat_minor": 0,
  "metadata": {
    "colab": {
      "name": "Tarea_2.ipynb",
      "provenance": [],
      "authorship_tag": "ABX9TyMT9V2ZR8F6GwpDGbgdsaW9",
      "include_colab_link": true
    },
    "kernelspec": {
      "name": "python3",
      "display_name": "Python 3"
    }
  },
  "cells": [
    {
      "cell_type": "markdown",
      "metadata": {
        "id": "view-in-github",
        "colab_type": "text"
      },
      "source": [
        "<a href=\"https://colab.research.google.com/github/Ale-desu/edd_1310_2021/blob/master/Tarea_2.ipynb\" target=\"_parent\"><img src=\"https://colab.research.google.com/assets/colab-badge.svg\" alt=\"Open In Colab\"/></a>"
      ]
    },
    {
      "cell_type": "code",
      "metadata": {
        "id": "2G-4W9wjeZfD",
        "outputId": "663db86c-06fc-4201-c7a3-3b0fe4a2ffd7",
        "colab": {
          "base_uri": "https://localhost:8080/",
          "height": 54
        }
      },
      "source": [
        "archivo= open(\"Datos.txt\",\"rt\")\n",
        "numeros=archivo.readlines()\n",
        "archivo.close()\n",
        "\n",
        "for j in range(0,len(numeros),1):\n",
        "  numeros[j]=numeros[j].strip().replace(\" \",\"\").split(\",\")\n",
        "numeros.pop(1)\n",
        "numeros.pop(1)\n",
        "numeros.pop(2)\n",
        "numeros.pop(2)\n",
        "numeros.pop(3)\n",
        "numeros.pop(3)\n",
        "numeros.pop(4)\n",
        "numeros.pop(5)\n",
        "numeros.pop(5)\n",
        "numeros.pop(6)\n",
        "numeros.pop(6)\n",
        "numeros.pop(7)\n",
        "numeros.pop(7)\n",
        "numeros.pop(8)\n",
        "numeros.pop(8)\n",
        "numeros.pop(9)\n",
        "numeros.pop(9)\n",
        "numeros.pop(10)\n",
        "numeros.pop(10)\n",
        "numeros.pop(10)\n",
        "numeros.pop(10)\n",
        "#sumatoria=\" \".join(numeros)\n",
        "#sumatoria=numeros.split(\",\")\n",
        "print(numeros)\n",
        "#print(sumatoria)\n",
        "\n"
      ],
      "execution_count": 55,
      "outputs": [
        {
          "output_type": "stream",
          "text": [
            "[['1', '2', '1', '14', '29', '45', '5', '58', '56', '10', '29', '14', '88', '17', '4', '3', '1', '7', '12', '10'], ['2', '23', '5', '8', '44', '2', '2', '13', '5', '9', '10', '16', '98', '76', '47', '1', '1', '3', '2'], ['3', '87', '15', '11', '9', '7', '90', '97', '21', '3', '4', '1', '8', '88', '74', '32', '34', '43', '17', '77', '93'], ['4', '46', '8', '1', '6', '2', '10', '37', '84', '4', '5', '9', '10', '2', '6', '3', '1', '1', '1', '8', '4', '20', '33', '23', '18', '45'], ['55', '3', '2', '29', '58', '83', '9', '17', '1', '43', '20', '93', '31', '46', '43', '77', '8', '44', '45', '17', '62'], ['6', '74', '13', '44', '18', '45', '11', '93', '2', '1', '1', '1', '25', '1', '42', '18', '22', '44', '52'], ['7', '88', '93', '6', '54', '2', '8', '1', '41', '86', '79', '33', '48', '9', '32', '63', '18', '7', '33', '2', '1', '16', '11', '7'], ['8', '0', '22', '17', '30', '6', '2', '12', '47', '37', '34', '85', '47', '33', '2', '6', '8', '4', '5', '29', '30', '42', '77', '2'], ['9', '2', '3', '4', '1', '1', '3', '6', '7', '7', '8', '9', '5', '1', '3', '4', '9', '10', '12', '3', '1', '5', '6', '22', '11', '0', '2'], ['1', '0', '2', '55', '9', '3', '55', '23', '1', '6', '9', '4', '5', '3', '3', '2', '1', '3', '8', '1', '6', '10', '0', '1', '5', '1', '3']]\n"
          ],
          "name": "stdout"
        }
      ]
    },
    {
      "cell_type": "code",
      "metadata": {
        "id": "XYFEeeULgxJn",
        "outputId": "87a308fd-fe53-4ffe-a5e8-12a7508401e8",
        "colab": {
          "base_uri": "https://localhost:8080/",
          "height": 34
        }
      },
      "source": [
        "\n",
        "for j in range(len(numeros)):\n",
        "  for i in range(len(numeros[j])):\n",
        "    sumatoria=sumatoria+(int)(numeros[j][i])\n",
        "print(sumatoria)"
      ],
      "execution_count": 64,
      "outputs": [
        {
          "output_type": "stream",
          "text": [
            "4984\n"
          ],
          "name": "stdout"
        }
      ]
    }
  ]
}