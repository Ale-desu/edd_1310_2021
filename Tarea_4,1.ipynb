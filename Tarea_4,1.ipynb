{
  "nbformat": 4,
  "nbformat_minor": 0,
  "metadata": {
    "colab": {
      "name": "Tarea_4",
      "provenance": [],
      "collapsed_sections": [],
      "authorship_tag": "ABX9TyNLxEeCcaE1V/yAgbXgThdl",
      "include_colab_link": true
    },
    "kernelspec": {
      "name": "python3",
      "display_name": "Python 3"
    }
  },
  "cells": [
    {
      "cell_type": "markdown",
      "metadata": {
        "id": "view-in-github",
        "colab_type": "text"
      },
      "source": [
        "<a href=\"https://colab.research.google.com/github/Ale-desu/edd_1310_2021/blob/master/Tarea_4%2C1.ipynb\" target=\"_parent\"><img src=\"https://colab.research.google.com/assets/colab-badge.svg\" alt=\"Open In Colab\"/></a>"
      ]
    },
    {
      "cell_type": "code",
      "metadata": {
        "id": "o4QCWlojyYH7",
        "outputId": "6737eb96-1248-454b-e7f7-0bfa999fe463",
        "colab": {
          "base_uri": "https://localhost:8080/"
        }
      },
      "source": [
        "archivo= open(\"junio.dat\",\"rt\")\n",
        "datos=archivo.readlines()\n",
        "archivo.close()\n",
        "#procesamiento del archivo\n",
        "for j in range(0,len(datos),1):\n",
        "  datos[j]=datos[j].replace(\"\\n\",\"\").split(\",\")\n",
        "datos.pop(0)\n",
        "print(datos)"
      ],
      "execution_count": null,
      "outputs": [
        {
          "output_type": "stream",
          "text": [
            "[['2345', 'CARLOS', 'PEREZ', 'CASTILLO', '0', '9850', '2017'], ['5754', 'ANGEL', 'GOMEZ', 'GARRIDO', '1', '9850', '2020'], ['5345', 'JESUS', 'MARTIN', 'SANTOS', '2', '9850', '2016'], ['3267', 'DAVID', 'JIMENEZ', 'LOZANO', '2', '9850', '2017'], ['8765', 'PEDRO', 'RUIZ', 'GUERRERO', '2', '9850', '2017'], ['5454', 'DANIEL', 'HERNANDEZ', 'CANO', '3', '9850', '2018'], ['3456', 'ALEJANDRO', 'DIAZ', 'PRIETO', '2', '9850', '2018'], ['3445', 'MARIA', 'MORENO', 'MENDEZ', '1', '9850', '2018'], ['9088', 'ALBERTO', 'MUNOZ', 'CRUZ', '1', '9850', '2017'], ['8877', 'RAFAEL', 'ALVAREZ', 'FLORES', '2', '9850', '2017'], ['6767', 'FERNANDO', 'ROMERO', 'HERRERA', '4', '9850', '2019'], ['5654', 'PABLO', 'ALONSO', 'GALLEGO', '1', '9850', '2019'], ['4323', 'JORGE', 'GUTIERREZ', 'MARQUEZ', '2', '9850', '2020'], ['2232', 'RAMON', 'NAVARRO', 'LEON', '1', '9850', '2016']]\n"
          ],
          "name": "stdout"
        }
      ]
    },
    {
      "cell_type": "code",
      "metadata": {
        "id": "FIUA8dDX8XBu",
        "outputId": "728525f1-3772-4d94-ec7f-3bcc19411689",
        "colab": {
          "base_uri": "https://localhost:8080/",
          "height": 35
        }
      },
      "source": [
        "class Array:\n",
        "  def __init__(self,tam):\n",
        "     self.__info=tam\n",
        "\n",
        "  def get_item (self, posicion):\n",
        "    dato=-1\n",
        "    try:\n",
        "      dato=self.__info[posicion]\n",
        "    except Exception as e:\n",
        "      print(\"error de posición\")\n",
        "      dato=\"error\"\n",
        "    return dato\n",
        "\n",
        "  def get_item_esp (self, renglon, columna):\n",
        "    esp=-1\n",
        "    try:\n",
        "      esp=self.__info[renglon][columna]\n",
        "    except Exception as e:\n",
        "      print(\"error de posición\")\n",
        "      esp=\"error\"\n",
        "    return esp\n",
        "\n",
        "  def set_item(self,dato,posicion):\n",
        "    try:\n",
        "      self.__info[posicion]=dato\n",
        "    except Exception as e:\n",
        "      print(\"error\")\n",
        "\n",
        "  def get_lenght (self):\n",
        "    return len(self.__info)\n",
        "\n",
        "  def clear(self, dato):\n",
        "    self.__info= [dato for x in range(len(self.__info))]\n",
        "  \n",
        "  def __iter__ (self):\n",
        "    return iteradorArreglo(self.__info)\n",
        "\n",
        "class iteradorArreglo:\n",
        "  def __init__(self,arr):\n",
        "    self.__arr=arr\n",
        "    self.__indice =0\n",
        "  \n",
        "  def __iter__(self):\n",
        "    return self\n",
        "\n",
        "  def __next__(self):\n",
        "    if self.__indice < len(self.__arr):\n",
        "      dato=self.__arr[self.__indice]\n",
        "      self.__indice +=1\n",
        "      return dato\n",
        "    else:\n",
        "      raise StopIteration\n",
        "algo=Array(datos)\n",
        "algo.get_item_esp(2,1)"
      ],
      "execution_count": null,
      "outputs": [
        {
          "output_type": "execute_result",
          "data": {
            "application/vnd.google.colaboratory.intrinsic+json": {
              "type": "string"
            },
            "text/plain": [
              "'JESUS'"
            ]
          },
          "metadata": {
            "tags": []
          },
          "execution_count": 11
        }
      ]
    },
    {
      "cell_type": "code",
      "metadata": {
        "id": "B3tKgOatlYQ9",
        "outputId": "9fea5cb0-0148-4330-80a8-d595f2092192",
        "colab": {
          "base_uri": "https://localhost:8080/"
        }
      },
      "source": [
        "class Sueldos:\n",
        "  def __init__(self,empleados):\n",
        "    self.__pagos=[0 for x in range(empleados)]\n",
        "    self.__cantidad=empleados\n",
        "    #print(self.__pagos)\n",
        "\n",
        "  def horas_ex(self):\n",
        "    horas=[0 for x in range(self.__cantidad)]\n",
        "    for x in range(0,self.__cantidad,1):\n",
        "      horas[x]=(float)(algo.get_item_esp(x,4))*276.5\n",
        "    return horas\n",
        "  \n",
        "  def antiguedad(self):\n",
        "    derecho=[0 for x in range(self.__cantidad)]\n",
        "    for y in range(0,self.__cantidad,1):\n",
        "      derecho[y]=((2020-((int)(algo.get_item_esp(y,6))))*.03)\n",
        "    for x in range(0,self.__cantidad,1):\n",
        "      derecho[x]=(float)(algo.get_item_esp(x,5))+((float)(algo.get_item_esp(x,5))*(float)(derecho[x]))\n",
        "    return derecho\n",
        "\n",
        "  def viejo (self):\n",
        "    a=2\n",
        "    b=2\n",
        "    for x in range(0,self.__cantidad,1):\n",
        "      anos=2020 -((int)(algo.get_item_esp(x,6)))\n",
        "      if anos > a :\n",
        "        a=x\n",
        "      elif anos< b:\n",
        "        b=x\n",
        "    print(f\"el empleado mas antiguo es {algo.get_item_esp(a,1)} \")\n",
        "    print(f\"el empleado mas nuevo es {algo.get_item_esp(b,1)} \")\n",
        "\n",
        "quincena=Sueldos(algo.get_lenght())\n",
        "total1=quincena.antiguedad()\n",
        "total2=quincena.horas_ex()\n",
        "quincena.viejo()\n",
        "\n",
        "pagos=[0 for x in range(algo.get_lenght())]\n",
        "\n",
        "for x in range(0,algo.get_lenght(),1):\n",
        "  pagos[x]=total1[x]+total2[x]\n",
        "  print(f\" el empleado {algo.get_item_esp(x,1)} {algo.get_item_esp(x,2)} recibirá {pagos[x]}\")"
      ],
      "execution_count": null,
      "outputs": [
        {
          "output_type": "stream",
          "text": [
            "el empleado mas antiguo es RAMON \n",
            "el empleado mas nuevo es JORGE \n",
            " el empleado CARLOS PEREZ recibirá 10736.5\n",
            " el empleado ANGEL GOMEZ recibirá 10126.5\n",
            " el empleado JESUS MARTIN recibirá 11585.0\n",
            " el empleado DAVID JIMENEZ recibirá 11289.5\n",
            " el empleado PEDRO RUIZ recibirá 11289.5\n",
            " el empleado DANIEL HERNANDEZ recibirá 11270.5\n",
            " el empleado ALEJANDRO DIAZ recibirá 10994.0\n",
            " el empleado MARIA MORENO recibirá 10717.5\n",
            " el empleado ALBERTO MUNOZ recibirá 11013.0\n",
            " el empleado RAFAEL ALVAREZ recibirá 11289.5\n",
            " el empleado FERNANDO ROMERO recibirá 11251.5\n",
            " el empleado PABLO ALONSO recibirá 10422.0\n",
            " el empleado JORGE GUTIERREZ recibirá 10403.0\n",
            " el empleado RAMON NAVARRO recibirá 11308.5\n"
          ],
          "name": "stdout"
        }
      ]
    }
  ]
}