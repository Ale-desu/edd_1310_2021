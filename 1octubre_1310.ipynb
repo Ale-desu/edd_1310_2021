{
  "nbformat": 4,
  "nbformat_minor": 0,
  "metadata": {
    "colab": {
      "name": "1octubre_1310.ipynb",
      "provenance": [],
      "authorship_tag": "ABX9TyPlOXn8Fw5cxv28gffua3rR",
      "include_colab_link": true
    },
    "kernelspec": {
      "name": "python3",
      "display_name": "Python 3"
    }
  },
  "cells": [
    {
      "cell_type": "markdown",
      "metadata": {
        "id": "view-in-github",
        "colab_type": "text"
      },
      "source": [
        "<a href=\"https://colab.research.google.com/github/Ale-desu/edd_1310_2021/blob/master/1octubre_1310.ipynb\" target=\"_parent\"><img src=\"https://colab.research.google.com/assets/colab-badge.svg\" alt=\"Open In Colab\"/></a>"
      ]
    },
    {
      "cell_type": "code",
      "metadata": {
        "id": "RSZxcpDn7VFN"
      },
      "source": [
        "escuela=\"fes aragón\"\n",
        "print(escuela)\n",
        "print(\"----------\")\n",
        "edad= 13\n",
        "estatura= 1.67\n",
        "fumador = True\n",
        "frase=\"\"\"\n",
        "esta es una frase concadenada\n",
        "esto es para ver las diferencias entre\n",
        "java y python\n",
        "notese que es un tipo de dato string\n",
        "\"\"\"\n",
        "print(frase)\n",
        "nombre= \"juan\"\n",
        "nombre_c= \"juan josé cardenas\""
      ],
      "execution_count": null,
      "outputs": []
    },
    {
      "cell_type": "markdown",
      "metadata": {
        "id": "z5DkWCTwD9cX"
      },
      "source": [
        "#tipos de datos python\n",
        "dir()\n",
        "help()"
      ]
    },
    {
      "cell_type": "code",
      "metadata": {
        "id": "TUKG981nELEl"
      },
      "source": [
        "#string int float bool list dict set"
      ],
      "execution_count": null,
      "outputs": []
    },
    {
      "cell_type": "markdown",
      "metadata": {
        "id": "4dQ2YqKN97kA"
      },
      "source": [
        "#print\n",
        "con comas, \n",
        "con el signo mas +,\n",
        "con fromat(),\n",
        "con el operador f\"\"\n"
      ]
    },
    {
      "cell_type": "code",
      "metadata": {
        "id": "Nw6nrj1M-C4h",
        "outputId": "3bf88deb-2c94-45da-b0aa-b510e0d35b65",
        "colab": {
          "base_uri": "https://localhost:8080/",
          "height": 119
        }
      },
      "source": [
        "print(nombre, edad)\n",
        "print(nombre + str(edad))\n",
        "print(\"su nombre es\", nombre,\"y tiene\",edad)\n",
        "print(\"su nombre es {0} y su edad es de {1} anos\" .format(nombre,edad))#la posición importa\n",
        "print(f\"Se llama {nombre} y tiene {edad} años\")\n",
        "print(nombre_c.capitalize(), end= \" roto\")"
      ],
      "execution_count": 13,
      "outputs": [
        {
          "output_type": "stream",
          "text": [
            "juan 13\n",
            "juan13\n",
            "su nombre es juan y tiene 13\n",
            "su nombre es juan y su edad es de 13 anos\n",
            "Se llama juan y tiene 13 años\n",
            "Juan josé cardenas roto"
          ],
          "name": "stdout"
        }
      ]
    },
    {
      "cell_type": "markdown",
      "metadata": {
        "id": "9tBap44QHNQI"
      },
      "source": [
        "#string\n",
        "se maneja como un arreglo  (c o java) o lista (python)"
      ]
    },
    {
      "cell_type": "code",
      "metadata": {
        "id": "0QuT9xnyHQxN",
        "outputId": "a059d9f7-317e-4b6f-cc65-2916e0671653",
        "colab": {
          "base_uri": "https://localhost:8080/",
          "height": 85
        }
      },
      "source": [
        "telefono=\"huawei mate 30 pro\"\n",
        "print(telefono[7:11:1])\n",
        "facultad=\"     facultad de estudios superiores aragón     \"\n",
        "print(facultad.count(\"s\")) #cuenta el no. de elementos especificos\n",
        "print(facultad.find(\"a\"))\n",
        "print(len(facultad), facultad.strip())\n",
        "print(\"--------------------------------\")\n",
        "\n",
        "colores=[rojo, verde]\n",
        "otra=colores.copy()\n",
        "print(colores)\n",
        "print(otra)\n",
        "otra.append(\"rosa\")\n",
        "print(colores)\n",
        "print(otra)"
      ],
      "execution_count": 32,
      "outputs": [
        {
          "output_type": "stream",
          "text": [
            "mate\n",
            "4\n",
            "6\n",
            "48 facultad de estudios superiores aragón\n"
          ],
          "name": "stdout"
        }
      ]
    },
    {
      "cell_type": "markdown",
      "metadata": {
        "id": "ns82H5P5IKqA"
      },
      "source": [
        "#slicing\n",
        "(inicia: llega:cambio)"
      ]
    },
    {
      "cell_type": "markdown",
      "metadata": {
        "id": "BBkGQmMMCjuS"
      },
      "source": [
        "#caracter de escape\n",
        "\\n salto de linea,\n",
        "\\t tabulador,\n",
        "\\a beep,\n",
        "se imprimen tal cual {\\\\\"\n",
        "\\\\' }"
      ]
    },
    {
      "cell_type": "markdown",
      "metadata": {
        "id": "120nPv4R_LUw"
      },
      "source": [
        "#notas\n",
        "el str()convierte a string \n",
        "el print con + concadena\n",
        ".format  es de string"
      ]
    },
    {
      "cell_type": "markdown",
      "metadata": {
        "id": "QVO3I3hb75a5"
      },
      "source": [
        "#intro python 3\n",
        "##tipo dinámico\n",
        "escuela=\"fes aragón\"'"
      ]
    }
  ]
}