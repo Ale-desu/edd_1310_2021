{
  "nbformat": 4,
  "nbformat_minor": 0,
  "metadata": {
    "colab": {
      "name": "27octubre_1310",
      "provenance": [],
      "authorship_tag": "ABX9TyMBsTWkKlYZWc3uw4gm2aT6",
      "include_colab_link": true
    },
    "kernelspec": {
      "name": "python3",
      "display_name": "Python 3"
    }
  },
  "cells": [
    {
      "cell_type": "markdown",
      "metadata": {
        "id": "view-in-github",
        "colab_type": "text"
      },
      "source": [
        "<a href=\"https://colab.research.google.com/github/Ale-desu/edd_1310_2021/blob/master/27octubre_1310.ipynb\" target=\"_parent\"><img src=\"https://colab.research.google.com/assets/colab-badge.svg\" alt=\"Open In Colab\"/></a>"
      ]
    },
    {
      "cell_type": "code",
      "metadata": {
        "id": "Jr4TFY2gCCXA",
        "outputId": "a9211416-9ac0-43e3-8b72-50b7b85a8bb8",
        "colab": {
          "base_uri": "https://localhost:8080/",
          "height": 51
        }
      },
      "source": [
        "class Computadora:\n",
        "    def __init__( self , m , p):\n",
        "        self.__marca = m\n",
        "        self.__procesador = p\n",
        "\n",
        "    def to_string( self ):\n",
        "        return \"Marca:\"+self.__marca+\" Procesador:\"+self.__procesador\n",
        "    def set_marca(self,m):\n",
        "      self.__marca=m\n",
        "    def get_marca(self):\n",
        "      return self.__marca\n",
        "mi_pc = Computadora(\"Toshiba\",\"Intel i7\")\n",
        "mi_pc.set_marca(\"Hp\")\n",
        "print(mi_pc.to_string())\n",
        "print(mi_pc.get_marca())"
      ],
      "execution_count": 12,
      "outputs": [
        {
          "output_type": "stream",
          "text": [
            "Marca:Hp Procesador:Intel i7\n",
            "Hp\n"
          ],
          "name": "stdout"
        }
      ]
    },
    {
      "cell_type": "markdown",
      "metadata": {
        "id": "k6SNACAREJjs"
      },
      "source": [
        "#encapsulamiento python\n",
        "## tradicional tipo java\n",
        "-  set \"vaiable\"(self,\"  \")\n",
        "- get\"variable (self)\n",
        "  return\n",
        "\n",
        "## tipo python\n",
        "- usando decoradores\n",
        "- @property\n",
        "- @atributo.setter"
      ]
    },
    {
      "cell_type": "code",
      "metadata": {
        "id": "-5w-HwfPHrWb"
      },
      "source": [
        "class Computadora:\n",
        "  def __init__(self,m,p):\n",
        "    self.marca=m\n",
        "    self.procesador=p\n",
        "\n",
        "  def to_string( self ):\n",
        "    return \"Marca:\"+self.marca+\" Procesador:\"+self.procesador\n",
        "\n",
        "  @property         #esto lo hace privado y funciona como get\n",
        "  def marca(self):\n",
        "    return self.__marca\n",
        "  @property\n",
        "  def procesador(self):\n",
        "    return self.__procesador\n",
        "\n",
        "  @marca.setter  #este es el setter xd\n",
        "  def marca (self,m):\n",
        "    self.__marca=m\n",
        "\n",
        "  @pocesador.setter  \n",
        "  def procesador (self,p):\n",
        "    self.__prcesador=p\n",
        "\n",
        "gg=Computadora(\"hp\",\"ryzen 3\")\n",
        "print(gg.to_string())\n",
        "gg.marca=\"DELL\" #aunque parece que se lo asignamos, realmente hace todo lo del \"set\", si no crees quita el setter\n",
        "print(gg.marca)"
      ],
      "execution_count": null,
      "outputs": []
    },
    {
      "cell_type": "code",
      "metadata": {
        "id": "U9OzH35MQlAB",
        "outputId": "6ea03c0a-2e61-47f1-f3de-92f482df99f0",
        "colab": {
          "base_uri": "https://localhost:8080/",
          "height": 51
        }
      },
      "source": [
        "#herencia, pasandola case base a la declaracion\n",
        "class servidorEmpresarial(Computadora):#ya se heredó\n",
        "  def __init__(self):\n",
        "    print(\"hola server\")\n",
        "\n",
        "server=servidorEmpresarial()\n",
        "server.marca=\"sun Micro system\"\n",
        "server.procesador=\"intel i7\"\n",
        "print(server.to_string())"
      ],
      "execution_count": 30,
      "outputs": [
        {
          "output_type": "stream",
          "text": [
            "hola server\n",
            "Marca:sun Micro system Procesador:intel i7\n"
          ],
          "name": "stdout"
        }
      ]
    },
    {
      "cell_type": "code",
      "metadata": {
        "id": "n3yGvqpqS0wJ"
      },
      "source": [
        ""
      ],
      "execution_count": null,
      "outputs": []
    }
  ]
}